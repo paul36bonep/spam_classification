{
 "cells": [
  {
   "cell_type": "code",
   "execution_count": null,
   "id": "43c40eae-6048-4547-9964-88177b96ae88",
   "metadata": {},
   "outputs": [],
   "source": [
    "import streamlit as st\n",
    "import pandas as pd\n",
    "import joblib\n",
    "import os\n",
    "\n",
    "@st.cache_resource\n",
    "def load_model():\n",
    "    model_path = \"spam_model.pkl\"\n",
    "    vectorizer_path = \"vectorizer.pkl\"\n",
    "\n",
    "    if not os.path.exists(model_path) or not os.path.exists(vectorizer_path):\n",
    "        st.error(\"Model files not found. Please run train.py first.\")\n",
    "        st.stop()\n",
    "\n",
    "    model = joblib.load(model_path)\n",
    "    vectorizer = joblib.load(vectorizer_path)\n",
    "    return vectorizer, model\n",
    "\n",
    "with st.spinner(\"Loading model...\"):\n",
    "    vectorizer, model = load_model()\n",
    "\n",
    "\n",
    "st.title(\"Spam Detector App\")\n",
    "st.write(\"Enter a message below to check if it's **SPAM** or **NOT SPAM**.\")\n",
    "\n",
    "user_input = st.text_area(\"Your message:\")\n",
    "\n",
    "if st.button(\"Classify\"):\n",
    "    if not user_input.strip():\n",
    "        st.warning(\"Please enter a message.\")\n",
    "    else:\n",
    "      \n",
    "        cleaned_text = user_input.lower()\n",
    "        vectorized_input = vectorizer.transform([cleaned_text])\n",
    "        prediction = model.predict(vectorized_input)[0]\n",
    "\n",
    "        if prediction.lower() == \"spam\":\n",
    "            st.error(\"This message is predicted to be **SPAM**.\")\n",
    "        else:\n",
    "            st.success(\"This message is predicted to be **NOT SPAM**.\")\n"
   ]
  }
 ],
 "metadata": {
  "kernelspec": {
   "display_name": "Python 3 (ipykernel)",
   "language": "python",
   "name": "python3"
  },
  "language_info": {
   "codemirror_mode": {
    "name": "ipython",
    "version": 3
   },
   "file_extension": ".py",
   "mimetype": "text/x-python",
   "name": "python",
   "nbconvert_exporter": "python",
   "pygments_lexer": "ipython3",
   "version": "3.13.5"
  }
 },
 "nbformat": 4,
 "nbformat_minor": 5
}
